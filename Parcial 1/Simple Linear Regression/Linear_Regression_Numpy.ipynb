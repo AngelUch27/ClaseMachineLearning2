{
  "cells": [
    {
      "cell_type": "markdown",
      "metadata": {
        "id": "GpI26Wbz9pEC"
      },
      "source": [
        "# Simple Linear Regression (Hours of study)\n",
        "\n",
        "The goal of this project was to build a linear regression model from the ground up using numpy."
      ]
    },
    {
      "cell_type": "code",
      "execution_count": 6,
      "metadata": {
        "id": "I0aLL9bOp8i-"
      },
      "outputs": [
        {
          "ename": "ModuleNotFoundError",
          "evalue": "No module named 'matplotlib'",
          "output_type": "error",
          "traceback": [
            "\u001b[1;31m---------------------------------------------------------------------------\u001b[0m",
            "\u001b[1;31mModuleNotFoundError\u001b[0m                       Traceback (most recent call last)",
            "Cell \u001b[1;32mIn[6], line 1\u001b[0m\n\u001b[1;32m----> 1\u001b[0m \u001b[43mget_ipython\u001b[49m\u001b[43m(\u001b[49m\u001b[43m)\u001b[49m\u001b[38;5;241;43m.\u001b[39;49m\u001b[43mrun_line_magic\u001b[49m\u001b[43m(\u001b[49m\u001b[38;5;124;43m'\u001b[39;49m\u001b[38;5;124;43mmatplotlib\u001b[39;49m\u001b[38;5;124;43m'\u001b[39;49m\u001b[43m,\u001b[49m\u001b[43m \u001b[49m\u001b[38;5;124;43m'\u001b[39;49m\u001b[38;5;124;43minline\u001b[39;49m\u001b[38;5;124;43m'\u001b[39;49m\u001b[43m)\u001b[49m\n\u001b[0;32m      3\u001b[0m \u001b[38;5;66;03m#Imports\u001b[39;00m\n\u001b[0;32m      4\u001b[0m \u001b[38;5;28;01mfrom\u001b[39;00m \u001b[38;5;21;01mnumpy\u001b[39;00m \u001b[38;5;28;01mimport\u001b[39;00m \u001b[38;5;241m*\u001b[39m\n",
            "File \u001b[1;32m~\\AppData\\Roaming\\Python\\Python312\\site-packages\\IPython\\core\\interactiveshell.py:2480\u001b[0m, in \u001b[0;36mInteractiveShell.run_line_magic\u001b[1;34m(self, magic_name, line, _stack_depth)\u001b[0m\n\u001b[0;32m   2478\u001b[0m     kwargs[\u001b[38;5;124m'\u001b[39m\u001b[38;5;124mlocal_ns\u001b[39m\u001b[38;5;124m'\u001b[39m] \u001b[38;5;241m=\u001b[39m \u001b[38;5;28mself\u001b[39m\u001b[38;5;241m.\u001b[39mget_local_scope(stack_depth)\n\u001b[0;32m   2479\u001b[0m \u001b[38;5;28;01mwith\u001b[39;00m \u001b[38;5;28mself\u001b[39m\u001b[38;5;241m.\u001b[39mbuiltin_trap:\n\u001b[1;32m-> 2480\u001b[0m     result \u001b[38;5;241m=\u001b[39m \u001b[43mfn\u001b[49m\u001b[43m(\u001b[49m\u001b[38;5;241;43m*\u001b[39;49m\u001b[43margs\u001b[49m\u001b[43m,\u001b[49m\u001b[43m \u001b[49m\u001b[38;5;241;43m*\u001b[39;49m\u001b[38;5;241;43m*\u001b[39;49m\u001b[43mkwargs\u001b[49m\u001b[43m)\u001b[49m\n\u001b[0;32m   2482\u001b[0m \u001b[38;5;66;03m# The code below prevents the output from being displayed\u001b[39;00m\n\u001b[0;32m   2483\u001b[0m \u001b[38;5;66;03m# when using magics with decorator @output_can_be_silenced\u001b[39;00m\n\u001b[0;32m   2484\u001b[0m \u001b[38;5;66;03m# when the last Python token in the expression is a ';'.\u001b[39;00m\n\u001b[0;32m   2485\u001b[0m \u001b[38;5;28;01mif\u001b[39;00m \u001b[38;5;28mgetattr\u001b[39m(fn, magic\u001b[38;5;241m.\u001b[39mMAGIC_OUTPUT_CAN_BE_SILENCED, \u001b[38;5;28;01mFalse\u001b[39;00m):\n",
            "File \u001b[1;32m~\\AppData\\Roaming\\Python\\Python312\\site-packages\\IPython\\core\\magics\\pylab.py:103\u001b[0m, in \u001b[0;36mPylabMagics.matplotlib\u001b[1;34m(self, line)\u001b[0m\n\u001b[0;32m     98\u001b[0m     \u001b[38;5;28mprint\u001b[39m(\n\u001b[0;32m     99\u001b[0m         \u001b[38;5;124m\"\u001b[39m\u001b[38;5;124mAvailable matplotlib backends: \u001b[39m\u001b[38;5;132;01m%s\u001b[39;00m\u001b[38;5;124m\"\u001b[39m\n\u001b[0;32m    100\u001b[0m         \u001b[38;5;241m%\u001b[39m _list_matplotlib_backends_and_gui_loops()\n\u001b[0;32m    101\u001b[0m     )\n\u001b[0;32m    102\u001b[0m \u001b[38;5;28;01melse\u001b[39;00m:\n\u001b[1;32m--> 103\u001b[0m     gui, backend \u001b[38;5;241m=\u001b[39m \u001b[38;5;28;43mself\u001b[39;49m\u001b[38;5;241;43m.\u001b[39;49m\u001b[43mshell\u001b[49m\u001b[38;5;241;43m.\u001b[39;49m\u001b[43menable_matplotlib\u001b[49m\u001b[43m(\u001b[49m\u001b[43margs\u001b[49m\u001b[38;5;241;43m.\u001b[39;49m\u001b[43mgui\u001b[49m\u001b[38;5;241;43m.\u001b[39;49m\u001b[43mlower\u001b[49m\u001b[43m(\u001b[49m\u001b[43m)\u001b[49m\u001b[43m \u001b[49m\u001b[38;5;28;43;01mif\u001b[39;49;00m\u001b[43m \u001b[49m\u001b[38;5;28;43misinstance\u001b[39;49m\u001b[43m(\u001b[49m\u001b[43margs\u001b[49m\u001b[38;5;241;43m.\u001b[39;49m\u001b[43mgui\u001b[49m\u001b[43m,\u001b[49m\u001b[43m \u001b[49m\u001b[38;5;28;43mstr\u001b[39;49m\u001b[43m)\u001b[49m\u001b[43m \u001b[49m\u001b[38;5;28;43;01melse\u001b[39;49;00m\u001b[43m \u001b[49m\u001b[43margs\u001b[49m\u001b[38;5;241;43m.\u001b[39;49m\u001b[43mgui\u001b[49m\u001b[43m)\u001b[49m\n\u001b[0;32m    104\u001b[0m     \u001b[38;5;28mself\u001b[39m\u001b[38;5;241m.\u001b[39m_show_matplotlib_backend(args\u001b[38;5;241m.\u001b[39mgui, backend)\n",
            "File \u001b[1;32m~\\AppData\\Roaming\\Python\\Python312\\site-packages\\IPython\\core\\interactiveshell.py:3665\u001b[0m, in \u001b[0;36mInteractiveShell.enable_matplotlib\u001b[1;34m(self, gui)\u001b[0m\n\u001b[0;32m   3662\u001b[0m     \u001b[38;5;28;01mimport\u001b[39;00m \u001b[38;5;21;01mmatplotlib_inline\u001b[39;00m\u001b[38;5;21;01m.\u001b[39;00m\u001b[38;5;21;01mbackend_inline\u001b[39;00m\n\u001b[0;32m   3664\u001b[0m \u001b[38;5;28;01mfrom\u001b[39;00m \u001b[38;5;21;01mIPython\u001b[39;00m\u001b[38;5;21;01m.\u001b[39;00m\u001b[38;5;21;01mcore\u001b[39;00m \u001b[38;5;28;01mimport\u001b[39;00m pylabtools \u001b[38;5;28;01mas\u001b[39;00m pt\n\u001b[1;32m-> 3665\u001b[0m gui, backend \u001b[38;5;241m=\u001b[39m \u001b[43mpt\u001b[49m\u001b[38;5;241;43m.\u001b[39;49m\u001b[43mfind_gui_and_backend\u001b[49m\u001b[43m(\u001b[49m\u001b[43mgui\u001b[49m\u001b[43m,\u001b[49m\u001b[43m \u001b[49m\u001b[38;5;28;43mself\u001b[39;49m\u001b[38;5;241;43m.\u001b[39;49m\u001b[43mpylab_gui_select\u001b[49m\u001b[43m)\u001b[49m\n\u001b[0;32m   3667\u001b[0m \u001b[38;5;28;01mif\u001b[39;00m gui \u001b[38;5;241m!=\u001b[39m \u001b[38;5;28;01mNone\u001b[39;00m:\n\u001b[0;32m   3668\u001b[0m     \u001b[38;5;66;03m# If we have our first gui selection, store it\u001b[39;00m\n\u001b[0;32m   3669\u001b[0m     \u001b[38;5;28;01mif\u001b[39;00m \u001b[38;5;28mself\u001b[39m\u001b[38;5;241m.\u001b[39mpylab_gui_select \u001b[38;5;129;01mis\u001b[39;00m \u001b[38;5;28;01mNone\u001b[39;00m:\n",
            "File \u001b[1;32m~\\AppData\\Roaming\\Python\\Python312\\site-packages\\IPython\\core\\pylabtools.py:338\u001b[0m, in \u001b[0;36mfind_gui_and_backend\u001b[1;34m(gui, gui_select)\u001b[0m\n\u001b[0;32m    321\u001b[0m \u001b[38;5;28;01mdef\u001b[39;00m \u001b[38;5;21mfind_gui_and_backend\u001b[39m(gui\u001b[38;5;241m=\u001b[39m\u001b[38;5;28;01mNone\u001b[39;00m, gui_select\u001b[38;5;241m=\u001b[39m\u001b[38;5;28;01mNone\u001b[39;00m):\n\u001b[0;32m    322\u001b[0m \u001b[38;5;250m    \u001b[39m\u001b[38;5;124;03m\"\"\"Given a gui string return the gui and mpl backend.\u001b[39;00m\n\u001b[0;32m    323\u001b[0m \n\u001b[0;32m    324\u001b[0m \u001b[38;5;124;03m    Parameters\u001b[39;00m\n\u001b[1;32m   (...)\u001b[0m\n\u001b[0;32m    335\u001b[0m \u001b[38;5;124;03m    'WXAgg','Qt4Agg','module://matplotlib_inline.backend_inline','agg').\u001b[39;00m\n\u001b[0;32m    336\u001b[0m \u001b[38;5;124;03m    \"\"\"\u001b[39;00m\n\u001b[1;32m--> 338\u001b[0m     \u001b[38;5;28;01mimport\u001b[39;00m \u001b[38;5;21;01mmatplotlib\u001b[39;00m\n\u001b[0;32m    340\u001b[0m     \u001b[38;5;28;01mif\u001b[39;00m _matplotlib_manages_backends():\n\u001b[0;32m    341\u001b[0m         backend_registry \u001b[38;5;241m=\u001b[39m matplotlib\u001b[38;5;241m.\u001b[39mbackends\u001b[38;5;241m.\u001b[39mregistry\u001b[38;5;241m.\u001b[39mbackend_registry\n",
            "\u001b[1;31mModuleNotFoundError\u001b[0m: No module named 'matplotlib'"
          ]
        }
      ],
      "source": [
        "%matplotlib inline\n",
        "\n",
        "#Imports\n",
        "from numpy import *\n",
        "import matplotlib.pyplot as plt"
      ]
    },
    {
      "cell_type": "code",
      "execution_count": null,
      "metadata": {
        "colab": {
          "base_uri": "https://localhost:8080/",
          "height": 345
        },
        "id": "RymgKqMyGtsF",
        "outputId": "9567ad4d-bea9-4958-cb79-56596f6081de"
      },
      "outputs": [],
      "source": [
        "from google.colab import drive\n",
        "drive.mount('/content/drive')"
      ]
    },
    {
      "cell_type": "markdown",
      "metadata": {
        "id": "GKD4XNP993fX"
      },
      "source": [
        "### Import the data\n",
        "\n",
        "Here, we're using a dataset with two columns containing the amount of hours studied and the test scores students achieved, respectively."
      ]
    },
    {
      "cell_type": "code",
      "execution_count": null,
      "metadata": {
        "colab": {
          "base_uri": "https://localhost:8080/",
          "height": 472
        },
        "id": "QKxoK6gC91oR",
        "outputId": "8f72d8f3-6538-4e70-85a8-6feaa3e9e262"
      },
      "outputs": [],
      "source": [
        "#Dataset: Way 2 dont requiere have the files in your Drive folder\n",
        "import numpy as np\n",
        "points = np.array([[ 32.50234527,  31.70700585],\n",
        "       [ 53.42680403,  68.77759598],\n",
        "       [ 61.53035803,  62.5623823 ],\n",
        "       [ 47.47563963,  71.54663223],\n",
        "       [ 59.81320787,  87.23092513],\n",
        "       [ 55.14218841,  78.21151827],\n",
        "       [ 52.21179669,  79.64197305],\n",
        "       [ 39.29956669,  59.17148932],\n",
        "       [ 48.10504169,  75.3312423 ],\n",
        "       [ 52.55001444,  71.30087989],\n",
        "       [ 45.41973014,  55.16567715],\n",
        "       [ 54.35163488,  82.47884676],\n",
        "       [ 44.1640495 ,  62.00892325],\n",
        "       [ 58.16847072,  75.39287043],\n",
        "       [ 56.72720806,  81.43619216],\n",
        "       [ 48.95588857,  60.72360244],\n",
        "       [ 44.68719623,  82.89250373],\n",
        "       [ 60.29732685,  97.37989686],\n",
        "       [ 45.61864377,  48.84715332],\n",
        "       [ 38.81681754,  56.87721319],\n",
        "       [ 66.18981661,  83.87856466],\n",
        "       [ 65.41605175, 118.5912173 ],\n",
        "       [ 47.48120861,  57.25181946],\n",
        "       [ 41.57564262,  51.39174408],\n",
        "       [ 51.84518691,  75.38065167],\n",
        "       [ 59.37082201,  74.76556403],\n",
        "       [ 57.31000344,  95.45505292],\n",
        "       [ 63.61556125,  95.22936602],\n",
        "       [ 46.73761941,  79.05240617],\n",
        "       [ 50.55676015,  83.43207142],\n",
        "       [ 52.22399609,  63.35879032],\n",
        "       [ 35.56783005,  41.4128853 ],\n",
        "       [ 42.43647694,  76.61734128],\n",
        "       [ 58.16454011,  96.76956643],\n",
        "       [ 57.50444762,  74.08413012],\n",
        "       [ 45.44053073,  66.58814441],\n",
        "       [ 61.89622268,  77.76848242],\n",
        "       [ 33.09383174,  50.71958891],\n",
        "       [ 36.43600951,  62.12457082],\n",
        "       [ 37.67565486,  60.81024665],\n",
        "       [ 44.55560838,  52.68298337],\n",
        "       [ 43.31828263,  58.56982472],\n",
        "       [ 50.07314563,  82.90598149],\n",
        "       [ 43.87061265,  61.4247098 ],\n",
        "       [ 62.99748075, 115.2441528 ],\n",
        "       [ 32.66904376,  45.57058882],\n",
        "       [ 40.16689901,  54.0840548 ],\n",
        "       [ 53.57507753,  87.99445276],\n",
        "       [ 33.86421497,  52.72549438],\n",
        "       [ 64.70713867,  93.57611869],\n",
        "       [ 38.11982403,  80.16627545],\n",
        "       [ 44.50253806,  65.10171157],\n",
        "       [ 40.59953838,  65.56230126],\n",
        "       [ 41.72067636,  65.28088692],\n",
        "       [ 51.08863468,  73.43464155],\n",
        "       [ 55.0780959 ,  71.13972786],\n",
        "       [ 41.37772653,  79.10282968],\n",
        "       [ 62.49469743,  86.52053844],\n",
        "       [ 49.20388754,  84.74269781],\n",
        "       [ 41.10268519,  59.35885025],\n",
        "       [ 41.18201611,  61.68403752],\n",
        "       [ 50.18638949,  69.84760416],\n",
        "       [ 52.37844622,  86.09829121],\n",
        "       [ 50.13548549,  59.10883927],\n",
        "       [ 33.64470601,  69.89968164],\n",
        "       [ 39.55790122,  44.86249071],\n",
        "       [ 56.13038882,  85.49806778],\n",
        "       [ 57.36205213,  95.53668685],\n",
        "       [ 60.26921439,  70.25193442],\n",
        "       [ 35.67809389,  52.72173496],\n",
        "       [ 31.588117  ,  50.39267014],\n",
        "       [ 53.66093226,  63.64239878],\n",
        "       [ 46.68222865,  72.24725107],\n",
        "       [ 43.10782022,  57.81251298],\n",
        "       [ 70.34607562, 104.25710159],\n",
        "       [ 44.49285588,  86.64202032],\n",
        "       [ 57.5045333 ,  91.486778  ],\n",
        "       [ 36.93007661,  55.23166089],\n",
        "       [ 55.80573336,  79.55043668],\n",
        "       [ 38.95476907,  44.84712424],\n",
        "       [ 56.9012147 ,  80.20752314],\n",
        "       [ 56.86890066,  83.14274979],\n",
        "       [ 34.3331247 ,  55.72348926],\n",
        "       [ 59.04974121,  77.63418251],\n",
        "       [ 57.78822399,  99.05141484],\n",
        "       [ 54.28232871,  79.12064627],\n",
        "       [ 51.0887199 ,  69.58889785],\n",
        "       [ 50.28283635,  69.51050331],\n",
        "       [ 44.21174175,  73.68756432],\n",
        "       [ 38.00548801,  61.36690454],\n",
        "       [ 32.94047994,  67.17065577],\n",
        "       [ 53.69163957,  85.66820315],\n",
        "       [ 68.76573427, 114.85387123],\n",
        "       [ 46.2309665 ,  90.12357207],\n",
        "       [ 68.31936082,  97.91982104],\n",
        "       [ 50.03017434,  81.53699078],\n",
        "       [ 49.23976534,  72.11183247],\n",
        "       [ 50.03957594,  85.23200734],\n",
        "       [ 48.14985889,  66.22495789],\n",
        "       [ 25.12848465,  53.45439421]])\n",
        "\n",
        "\n",
        "#Extract columns\n",
        "x = array(points[:,0])\n",
        "y = array(points[:,1])\n",
        "\n",
        "#Plot the dataset\n",
        "plt.scatter(x,y)\n",
        "plt.xlabel('Hours of study')\n",
        "plt.ylabel('Test scores')\n",
        "plt.title('Dataset')\n",
        "plt.show()"
      ]
    },
    {
      "cell_type": "code",
      "execution_count": null,
      "metadata": {
        "colab": {
          "base_uri": "https://localhost:8080/"
        },
        "id": "JuWza3ODJoK5",
        "outputId": "ca39af44-2417-4a21-af84-707d022ff80c"
      },
      "outputs": [],
      "source": [
        "print(points)"
      ]
    },
    {
      "cell_type": "markdown",
      "metadata": {
        "id": "fMOttdGaB2fh"
      },
      "source": [
        "### Defining the hyperparameters"
      ]
    },
    {
      "cell_type": "code",
      "execution_count": 4,
      "metadata": {
        "id": "pdqzqGRkfmN5"
      },
      "outputs": [],
      "source": [
        "#hyperparameters\n",
        "learning_rate = 0.0001\n",
        "initial_b = 0\n",
        "initial_m = 0\n",
        "num_iterations = 10 #Here!"
      ]
    },
    {
      "cell_type": "markdown",
      "metadata": {
        "id": "wQlyT_8-fmo3"
      },
      "source": [
        "### Define cost function"
      ]
    },
    {
      "cell_type": "code",
      "execution_count": 5,
      "metadata": {
        "id": "TufsNA5Ufo31"
      },
      "outputs": [],
      "source": [
        "def compute_cost(b, m, points):\n",
        "    total_cost = 0\n",
        "    N = float(len(points))\n",
        "\n",
        "    #Compute sum of squared errors\n",
        "    for i in range(0, len(points)):\n",
        "        x = points[i, 0]\n",
        "        y = points[i, 1]\n",
        "        total_cost += (y - (m * x + b)) ** 2\n",
        "\n",
        "    #Return average of squared error\n",
        "    return total_cost/N"
      ]
    },
    {
      "cell_type": "markdown",
      "metadata": {
        "id": "0_0a7punfrdx"
      },
      "source": [
        "### Define Gradient Descent functions"
      ]
    },
    {
      "cell_type": "code",
      "execution_count": 6,
      "metadata": {
        "id": "EMaKVgkgfwHt"
      },
      "outputs": [],
      "source": [
        "def gradient_descent_runner(points, starting_b, starting_m, learning_rate, num_iterations):\n",
        "    b = starting_b\n",
        "    m = starting_m\n",
        "    cost_graph = []\n",
        "\n",
        "    #For every iteration, optimize b, m and compute its cost\n",
        "    for i in range(num_iterations):\n",
        "        cost_graph.append(compute_cost(b, m, points))\n",
        "        b, m = step_gradient(b, m, array(points), learning_rate)\n",
        "\n",
        "    return [b, m, cost_graph]\n",
        "\n",
        "def step_gradient(b_current, m_current, points, learning_rate):\n",
        "    m_gradient = 0\n",
        "    b_gradient = 0\n",
        "    N = float(len(points))\n",
        "\n",
        "    #Calculate Gradient\n",
        "    for i in range(0, len(points)):\n",
        "        x = points[i, 0]\n",
        "        y = points[i, 1]\n",
        "        m_gradient += - (2/N) * x * (y - (m_current * x + b_current))\n",
        "        b_gradient += - (2/N) * (y - (m_current * x + b_current))\n",
        "\n",
        "    #Update current m and b\n",
        "    m_updated = m_current - learning_rate * m_gradient\n",
        "    b_updated = b_current - learning_rate * b_gradient\n",
        "\n",
        "    #Return updated parameters\n",
        "    return b_updated, m_updated"
      ]
    },
    {
      "cell_type": "markdown",
      "metadata": {
        "id": "ATh_xArsfw-H"
      },
      "source": [
        "### Run gradient_descent_runner() to get optimized parameters b and m"
      ]
    },
    {
      "cell_type": "code",
      "execution_count": null,
      "metadata": {
        "colab": {
          "base_uri": "https://localhost:8080/"
        },
        "id": "2GtoNuwNfzwr",
        "outputId": "294ef366-dbfd-4fde-f7f4-ba9c2f3481b3"
      },
      "outputs": [],
      "source": [
        "b, m, cost_graph = gradient_descent_runner(points, initial_b, initial_m, learning_rate, num_iterations)\n",
        "\n",
        "#Print optimized parameters\n",
        "print ('Optimized b:', b)\n",
        "print ('Optimized m:', m)\n",
        "\n",
        "#Print error with optimized parameters\n",
        "print ('Minimized cost:', compute_cost(b, m, points))"
      ]
    },
    {
      "cell_type": "markdown",
      "metadata": {
        "id": "4-h15RALf4Hs"
      },
      "source": [
        "### Plotting the cost per iterations"
      ]
    },
    {
      "cell_type": "code",
      "execution_count": null,
      "metadata": {
        "colab": {
          "base_uri": "https://localhost:8080/",
          "height": 472
        },
        "id": "K64mstSUf5QW",
        "outputId": "2747c5bb-ffd1-4362-b158-a4057fd2900a"
      },
      "outputs": [],
      "source": [
        "plt.plot(cost_graph)\n",
        "plt.xlabel('No. of iterations')\n",
        "plt.ylabel('Cost')\n",
        "plt.title('Cost per iteration')\n",
        "plt.show()"
      ]
    },
    {
      "cell_type": "markdown",
      "metadata": {
        "id": "e62H9zQff9qW"
      },
      "source": [
        "Gradient descent converges to local minimum after 5 iterations"
      ]
    },
    {
      "cell_type": "markdown",
      "metadata": {
        "id": "pi7w82E0f_uV"
      },
      "source": [
        "### Plot line of best fit"
      ]
    },
    {
      "cell_type": "code",
      "execution_count": null,
      "metadata": {
        "colab": {
          "base_uri": "https://localhost:8080/",
          "height": 472
        },
        "id": "-pka0npsgBfz",
        "outputId": "c7086db8-8366-48c5-e7ca-1f2bfd59a755"
      },
      "outputs": [],
      "source": [
        "#Plot dataset\n",
        "plt.scatter(x, y)\n",
        "#Predict y values\n",
        "pred = m * x + b\n",
        "#Plot predictions as line of best fit\n",
        "plt.plot(x, pred, c='r')\n",
        "plt.xlabel('Hours of study')\n",
        "plt.ylabel('Test scores')\n",
        "plt.title('Line of best fit')\n",
        "plt.show()"
      ]
    },
    {
      "cell_type": "markdown",
      "metadata": {
        "id": "hF65goJCHGWi"
      },
      "source": [
        "# Simple Linear Regression (Charles Law)\n",
        "\n",
        "The goal of this project was to build a linear regression model from the ground up using numpy."
      ]
    },
    {
      "cell_type": "code",
      "execution_count": null,
      "metadata": {
        "id": "_MPxek8ULME6"
      },
      "outputs": [],
      "source": [
        "%matplotlib inline\n",
        "\n",
        "#Imports\n",
        "from numpy import *\n",
        "import numpy as np\n",
        "import matplotlib.pyplot as plt"
      ]
    },
    {
      "cell_type": "markdown",
      "metadata": {
        "id": "oEM30-IclePu"
      },
      "source": [
        "### Import the data\n",
        "\n",
        "Here, we're using a dataset with two columns containing the variation of temperature in Charles experiment.\n",
        "\n",
        "| Temperature (ºC) |   0  |  10  |  20 |  30  |  40  |  50  |  60  |  70  |  80  |  90  |  100 |\n",
        "|-----------------:|:----:|:----:|:---:|:----:|:----:|:----:|:----:|:----:|:----:|:----:|:----:|\n",
        "|   Pressure (atm) | 0.94 | 0.96 | 1.0 | 1.05 | 1.07 | 1.09 | 1.14 | 1.17 | 1.21 | 1.24 | 1.28 |"
      ]
    },
    {
      "cell_type": "code",
      "execution_count": null,
      "metadata": {
        "colab": {
          "base_uri": "https://localhost:8080/",
          "height": 470
        },
        "id": "hm3hYDELfrz-",
        "outputId": "2d9a775a-9abc-4163-849f-7e20e0e098ff"
      },
      "outputs": [],
      "source": [
        "#Dataset\n",
        "points = np.array([[0,0.94],[10,0.96],[20,1],[30,1.05],[40,1.07],[50,1.09],[60,1.14],[70,1.17],[80,1.21],[90,1.24],[100,1.28]])\n",
        "print(points)\n",
        "\n",
        "#Extract columns\n",
        "x = array(points[:,0])\n",
        "y = array(points[:,1])\n",
        "\n",
        "plt.scatter(x,y)\n",
        "#plt.title('Line of best fit')\n",
        "plt.xlabel('Temperature (C)')\n",
        "plt.ylabel('Pressure (atm)')\n",
        "plt.show()"
      ]
    },
    {
      "cell_type": "markdown",
      "metadata": {
        "id": "ECdbe_mSnO5K"
      },
      "source": [
        "### Defining coefficents a1, a0"
      ]
    },
    {
      "cell_type": "code",
      "execution_count": null,
      "metadata": {
        "id": "HTP4N4NHgBbx"
      },
      "outputs": [],
      "source": [
        "def coefs(points):\n",
        "\n",
        "  x = array(points[:,0])\n",
        "  y = array(points[:,1])\n",
        "\n",
        "  sum_xi = 0\n",
        "  for xi in x:\n",
        "    #print(xi)\n",
        "    sum_xi = sum_xi + xi\n",
        "  #print(sum_xi)\n",
        "  #return sum_xi\n",
        "\n",
        "  sum_yi = 0\n",
        "  for yi in y:\n",
        "    #print(yi)\n",
        "    sum_yi = sum_yi + yi\n",
        "  #print(sum_yi)\n",
        "  #return sum_yi\n",
        "\n",
        "  sum_xiyi = 0\n",
        "  for xi, yi in points:\n",
        "    xiyi = xi*yi\n",
        "    #print(xiyi)\n",
        "    sum_xiyi = sum_xiyi + xiyi\n",
        "    #print(sum_xiyi)\n",
        "  #return sum_xiyi\n",
        "\n",
        "  sumpow2_xi  = 0\n",
        "  for xi in x:\n",
        "    #print(xi)\n",
        "    sumpow2_xi  = sumpow2_xi + (xi**2)\n",
        "  #print(sumpow2_xi)\n",
        "  #return sumpow2_xi\n",
        "\n",
        "  print(\"y = a1*x+a0\")\n",
        "  a1 = ((len(points))*(sum_xiyi)-(sum_xi)*(sum_yi))/((len(points))*(sumpow2_xi)-(sum_xi**2))\n",
        "  print(\"a1 = \", a1)\n",
        "  a0 = (sum_yi/len(points)) - (a1*(sum_xi/len(points)))\n",
        "  print(\"a0 = \", a0)\n",
        "  return a1, a0"
      ]
    },
    {
      "cell_type": "code",
      "execution_count": null,
      "metadata": {
        "colab": {
          "base_uri": "https://localhost:8080/"
        },
        "id": "5H0E6b9wgs2X",
        "outputId": "f6f3074c-10d0-4a50-aad6-c64d60620424"
      },
      "outputs": [],
      "source": [
        "a1, a0 = coefs(points)\n",
        "T = x\n",
        "p = a1*T + a0 # p is predicted pressure for x temperatures (T)"
      ]
    },
    {
      "cell_type": "markdown",
      "metadata": {
        "id": "DN3bHb6On1pM"
      },
      "source": [
        "### Plot line of best fit"
      ]
    },
    {
      "cell_type": "code",
      "execution_count": null,
      "metadata": {
        "colab": {
          "base_uri": "https://localhost:8080/",
          "height": 235
        },
        "id": "1itRYhTjkrpe",
        "outputId": "c6d8b7cc-c238-4bc0-abbf-ee644bb7b73b"
      },
      "outputs": [],
      "source": [
        "plt.scatter(x,y)\n",
        "#plt.title('Line of best fit')\n",
        "plt.plot(T,p, color='red', linewidth=3)\n",
        "plt.xlabel('Temperature (C)')\n",
        "plt.ylabel('Pressure (atm)')\n",
        "plt.show()"
      ]
    },
    {
      "cell_type": "markdown",
      "metadata": {
        "id": "VpeV0oOfn4jT"
      },
      "source": [
        "### Plot line of absolute T"
      ]
    },
    {
      "cell_type": "code",
      "execution_count": null,
      "metadata": {
        "colab": {
          "base_uri": "https://localhost:8080/"
        },
        "id": "4OJpWzamk1Qd",
        "outputId": "4081d96d-f734-4b55-d4a2-439a34282351"
      },
      "outputs": [],
      "source": [
        "T_abs = -a0/a1\n",
        "print(T_abs)"
      ]
    },
    {
      "cell_type": "code",
      "execution_count": null,
      "metadata": {
        "colab": {
          "base_uri": "https://localhost:8080/",
          "height": 280
        },
        "id": "Yuml1nIHlJKK",
        "outputId": "41d2821a-fd62-4deb-ff85-6beac8dc7534"
      },
      "outputs": [],
      "source": [
        "plt.scatter(x,y)\n",
        "#plt.title('Line of best fit')\n",
        "plt.plot(T_abs,0, 'b*')\n",
        "plt.plot(T,p, color='red', linewidth=3)\n",
        "plt.xlabel('Temperature (C)')\n",
        "plt.ylabel('Pressure (atm)')\n",
        "plt.show()"
      ]
    }
  ],
  "metadata": {
    "colab": {
      "provenance": []
    },
    "kernelspec": {
      "display_name": "DeepLearning",
      "language": "python",
      "name": "python3"
    },
    "language_info": {
      "codemirror_mode": {
        "name": "ipython",
        "version": 3
      },
      "file_extension": ".py",
      "mimetype": "text/x-python",
      "name": "python",
      "nbconvert_exporter": "python",
      "pygments_lexer": "ipython3",
      "version": "3.12.8"
    }
  },
  "nbformat": 4,
  "nbformat_minor": 0
}
